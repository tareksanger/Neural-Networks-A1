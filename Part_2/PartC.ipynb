{
 "cells": [
  {
   "cell_type": "code",
   "execution_count": 1,
   "metadata": {},
   "outputs": [
    {
     "name": "stdout",
     "output_type": "stream",
     "text": [
      "1/1 [==============================] - 0s 498ms/step - loss: 1.5432e-05 - accuracy: 1.0000\n",
      "1/1 [==============================] - 0s 124ms/step - loss: 3.6916e-06 - accuracy: 1.0000\n",
      "1/1 [==============================] - 0s 17ms/step - loss: 0.0015 - accuracy: 1.0000\n",
      "1/1 [==============================] - 0s 15ms/step - loss: 2.9383e-04 - accuracy: 1.0000\n",
      "1/1 [==============================] - 0s 16ms/step - loss: 0.0163 - accuracy: 1.0000\n",
      "1/1 [==============================] - 0s 16ms/step - loss: 0.0025 - accuracy: 1.0000\n",
      "1/1 [==============================] - 0s 16ms/step - loss: 0.1654 - accuracy: 0.9355\n",
      "1/1 [==============================] - 0s 15ms/step - loss: 0.2195 - accuracy: 0.9677\n"
     ]
    }
   ],
   "source": [
    "import os \n",
    "import numpy as np\n",
    "import pandas as pd\n",
    "import matplotlib.pyplot as plt\n",
    "from helpers.Model import Model\n",
    "\n",
    "from helpers.constants import NOISE_LEVEL_1, NOISE_LEVEL_2, NOISE_LEVEL_3, TARGET_PATTERNS\n",
    "\n",
    "true_y = np.array(list(range(31)))\n",
    "\n",
    "tests = [\n",
    "    np.array(TARGET_PATTERNS['x']).reshape(-1, 7*5),    # Ideal Data (No Noise)\n",
    "    np.array(NOISE_LEVEL_1['x']).reshape(-1, 7 * 5),    # Noise Level 1\n",
    "    np.array(NOISE_LEVEL_2['x']).reshape(-1, 7 * 5),    # Noise Level 2\n",
    "    np.array(NOISE_LEVEL_3['x']).reshape(-1, 7 * 5),    # Noise Level 3\n",
    "]\n",
    "\n",
    "save_dir = os.path.abspath('Saves/')\n",
    "\n",
    "neurons = 20\n",
    "\n",
    "model_noise_free = Model(num_hidden_nodes=neurons)()\n",
    "model_noise_free.load_weights(os.path.join(save_dir, f'{neurons}/noise_free_final_weights.hdf5'))\n",
    "\n",
    "model_noisy = Model(num_hidden_nodes=neurons)()\n",
    "model_noisy.load_weights(os.path.join(save_dir, f'{neurons}/final_weights.hdf5'))\n",
    "\n",
    "\n",
    "noise_free_results = []\n",
    "noisy_results = []\n",
    "\n",
    "for x in tests:\n",
    "    _, noise_free_acc = model_noise_free.evaluate(x, true_y)\n",
    "    noise_free_results.append((1-noise_free_acc) * 100)\n",
    "\n",
    "    _, noisy_acc = model_noisy.evaluate(x, true_y)\n",
    "    noisy_results.append((1-noisy_acc)*100)\n"
   ]
  },
  {
   "cell_type": "code",
   "execution_count": 2,
   "metadata": {},
   "outputs": [
    {
     "data": {
      "image/png": "[encoded data removed]",
      "text/plain": [
       "<Figure size 432x288 with 1 Axes>"
      ]
     },
     "metadata": {
      "needs_background": "light"
     },
     "output_type": "display_data"
    }
   ],
   "source": [
    "plt.plot(noise_free_results, label='trained without noise')\n",
    "plt.plot(noisy_results, label='trained with noise', )\n",
    "plt.ylabel('Precent of Recognition Error')\n",
    "plt.xlabel('Noise Level')\n",
    "plt.legend()\n",
    "plt.show()\n"
   ]
  }
 ],
 "metadata": {
  "interpreter": {
   "hash": "21b188c0133e5ca5e0fe5cdb1fda617f896e9de110cb3eba55ae371a16ae1992"
  },
  "kernelspec": {
   "display_name": "Python 3.7.11 ('py37')",
   "language": "python",
   "name": "python3"
  },
  "language_info": {
   "codemirror_mode": {
    "name": "ipython",
    "version": 3
   },
   "file_extension": ".py",
   "mimetype": "text/x-python",
   "name": "python",
   "nbconvert_exporter": "python",
   "pygments_lexer": "ipython3",
   "version": "3.7.11"
  },
  "orig_nbformat": 4
 },
 "nbformat": 4,
 "nbformat_minor": 2
}
